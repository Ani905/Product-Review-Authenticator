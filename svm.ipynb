{
 "cells": [
  {
   "cell_type": "code",
   "execution_count": 2,
   "metadata": {},
   "outputs": [
    {
     "name": "stderr",
     "output_type": "stream",
     "text": [
      "[nltk_data] Downloading package stopwords to\n",
      "[nltk_data]     /Users/anirudhan.s/nltk_data...\n",
      "[nltk_data]   Package stopwords is already up-to-date!\n"
     ]
    },
    {
     "data": {
      "text/plain": [
       "True"
      ]
     },
     "execution_count": 2,
     "metadata": {},
     "output_type": "execute_result"
    }
   ],
   "source": [
    "import numpy as np\n",
    "import pandas as pd\n",
    "from sklearn.model_selection import train_test_split \n",
    "import nltk\n",
    "nltk.download('stopwords')"
   ]
  },
  {
   "cell_type": "markdown",
   "metadata": {},
   "source": [
    "Data Initialization"
   ]
  },
  {
   "cell_type": "code",
   "execution_count": 3,
   "metadata": {},
   "outputs": [
    {
     "name": "stdout",
     "output_type": "stream",
     "text": [
      "   Score                                               Text\n",
      "0      5  I have bought several of the Vitality canned d...\n",
      "1      1  Product arrived labeled as Jumbo Salted Peanut...\n",
      "2      4  This is a confection that has been around a fe...\n",
      "3      2  If you are looking for the secret ingredient i...\n",
      "4      5  Great taffy at a great price.  There was a wid...\n"
     ]
    }
   ],
   "source": [
    "\n",
    "df = pd.read_csv(\"/Users/anirudhan.s/Projects/Senti/Reviews.csv\")\n",
    "#df = df.sample(n=50000, random_state=42)  \n",
    "res = df[[\"Score\", \"Text\"]]\n",
    "X = df[\"Text\"]\n",
    "y = df[\"Score\"]\n",
    "X_train, X_test, y_train, y_test = train_test_split(X,y , \n",
    "                                   random_state=104,  \n",
    "                                   test_size=0.25,  \n",
    "                                   shuffle=True)\n",
    "print(res.head())\n"
   ]
  },
  {
   "cell_type": "markdown",
   "metadata": {},
   "source": [
    "Vectorizing the data"
   ]
  },
  {
   "cell_type": "code",
   "execution_count": 4,
   "metadata": {},
   "outputs": [],
   "source": [
    "from sklearn.feature_extraction.text import TfidfVectorizer\n",
    "vectorizer = TfidfVectorizer(min_df = 4,\n",
    "                             max_df = 0.8,\n",
    "                             sublinear_tf = True,\n",
    "                             use_idf = True)\n",
    "train_vectors = vectorizer.fit_transform(X_train)\n",
    "test_vectors = vectorizer.transform(X_test)"
   ]
  },
  {
   "cell_type": "markdown",
   "metadata": {},
   "source": [
    "Using count vectorizer"
   ]
  },
  {
   "cell_type": "code",
   "execution_count": 6,
   "metadata": {},
   "outputs": [],
   "source": [
    "from sklearn.feature_extraction.text import CountVectorizer\n",
    "vectorizer = CountVectorizer()\n",
    "features_train = vectorizer.fit_transform(X_train)\n",
    "features_test = vectorizer.transform(X_test)"
   ]
  },
  {
   "cell_type": "markdown",
   "metadata": {},
   "source": [
    "Using SVM"
   ]
  },
  {
   "cell_type": "code",
   "execution_count": 7,
   "metadata": {},
   "outputs": [
    {
     "name": "stdout",
     "output_type": "stream",
     "text": [
      "Training time: 1439.701691s; Prediction time: 154.064365s\n",
      "{'1': {'precision': 0.6337662337662338, 'recall': 0.41461342395921835, 'f1-score': 0.5012840267077555, 'support': 1177.0}, '2': {'precision': 0.6, 'recall': 0.046875, 'f1-score': 0.08695652173913043, 'support': 640.0}, '3': {'precision': 0.5228426395939086, 'recall': 0.10488798370672098, 'f1-score': 0.17472434266327397, 'support': 982.0}, '4': {'precision': 0.6597222222222222, 'recall': 0.05191256830601093, 'f1-score': 0.09625126646403243, 'support': 1830.0}, '5': {'precision': 0.6886850692300909, 'recall': 0.9921229831025282, 'f1-score': 0.8130140551795939, 'support': 7871.0}, 'accuracy': 0.682, 'macro avg': {'precision': 0.6210032329624912, 'recall': 0.32208239181489573, 'f1-score': 0.33444604255075727, 'support': 12500.0}, 'weighted avg': {'precision': 0.6617044940640628, 'recall': 0.682, 'f1-score': 0.5914092979032936, 'support': 12500.0}}\n"
     ]
    }
   ],
   "source": [
    "import time\n",
    "from sklearn import svm\n",
    "from sklearn.metrics import classification_report\n",
    "\n",
    "# Train SVM with a linear kernel\n",
    "classifier = svm.SVC(kernel='rbf')\n",
    "\n",
    "# Measure training time\n",
    "t0 = time.time()\n",
    "classifier.fit(features_train, y_train)  # Use train_vectors and y_train\n",
    "t1 = time.time()\n",
    "\n",
    "# Make predictions\n",
    "prediction = classifier.predict(features_test)  # Use test_vectors\n",
    "t2 = time.time()\n",
    "\n",
    "# Calculate time taken for training and prediction\n",
    "time_linear_train = t1 - t0\n",
    "time_linear_predict = t2 - t1\n",
    "\n",
    "# Print time results\n",
    "print(\"Training time: %fs; Prediction time: %fs\" % (time_linear_train, time_linear_predict))\n",
    "\n",
    "# Generate classification report\n",
    "report = classification_report(y_test, prediction, output_dict=True)  # Compare predictions with y_test\n",
    "print(report)\n"
   ]
  },
  {
   "cell_type": "code",
   "execution_count": 5,
   "metadata": {},
   "outputs": [
    {
     "name": "stdout",
     "output_type": "stream",
     "text": [
      "{'precision': 0.6767466110531803, 'recall': 0.5514018691588785, 'f1-score': 0.6076779026217228, 'support': 1177.0}\n",
      "{'precision': 0.6451612903225806, 'recall': 0.15625, 'f1-score': 0.25157232704402516, 'support': 640.0}\n",
      "{'precision': 0.553921568627451, 'recall': 0.23014256619144602, 'f1-score': 0.3251798561151079, 'support': 982.0}\n",
      "{'precision': 0.6301652892561983, 'recall': 0.16666666666666666, 'f1-score': 0.2636127917026793, 'support': 1830.0}\n",
      "{'precision': 0.7388984181437012, 'recall': 0.985135306822513, 'f1-score': 0.8444323441328614, 'support': 7871.0}\n"
     ]
    }
   ],
   "source": [
    "for i in range(1, 6):\n",
    "    print(report[str(i)])"
   ]
  },
  {
   "cell_type": "markdown",
   "metadata": {},
   "source": [
    "Using Random forests"
   ]
  },
  {
   "cell_type": "code",
   "execution_count": 16,
   "metadata": {},
   "outputs": [
    {
     "data": {
      "text/plain": [
       "0.7872060458505143"
      ]
     },
     "execution_count": 16,
     "metadata": {},
     "output_type": "execute_result"
    }
   ],
   "source": [
    "from sklearn.ensemble import RandomForestClassifier\n",
    "\n",
    "\n",
    "rf = RandomForestClassifier()\n",
    "rf.fit(train_vectors, y_train)\n",
    "\n",
    "y_pred = rf.predict(test_vectors)\n",
    "rf.score(test_vectors, y_test)"
   ]
  },
  {
   "cell_type": "code",
   "execution_count": null,
   "metadata": {},
   "outputs": [],
   "source": [
    "from sklearn.ensemble import RandomForestClassifier\n",
    "\n",
    "\n",
    "rf = RandomForestClassifier(n_estimators=500,\n",
    "                            criterion='entropy')\n",
    "rf.fit(train_vectors, y_train)\n",
    "\n",
    "y_pred = rf.predict(test_vectors)\n",
    "rf.score(test_vectors, y_test)"
   ]
  }
 ],
 "metadata": {
  "kernelspec": {
   "display_name": "senti",
   "language": "python",
   "name": "python3"
  },
  "language_info": {
   "codemirror_mode": {
    "name": "ipython",
    "version": 3
   },
   "file_extension": ".py",
   "mimetype": "text/x-python",
   "name": "python",
   "nbconvert_exporter": "python",
   "pygments_lexer": "ipython3",
   "version": "3.10.11"
  }
 },
 "nbformat": 4,
 "nbformat_minor": 2
}
